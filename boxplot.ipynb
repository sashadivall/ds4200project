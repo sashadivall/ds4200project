{
 "cells": [
  {
   "cell_type": "code",
   "execution_count": 1,
   "metadata": {},
   "outputs": [
    {
     "data": {
      "application/vnd.plotly.v1+json": {
       "config": {
        "plotlyServerURL": "https://plot.ly"
       },
       "data": [
        {
         "alignmentgroup": "True",
         "boxpoints": "all",
         "hovertemplate": "model=gpt-4o<br>difficulty=%{x}<br>execution_time_ms=%{y}<extra></extra>",
         "legendgroup": "gpt-4o",
         "marker": {
          "color": "blue"
         },
         "name": "gpt-4o",
         "notched": false,
         "offsetgroup": "gpt-4o",
         "orientation": "v",
         "showlegend": true,
         "type": "box",
         "x": [
          "Easy",
          "Easy",
          "Easy",
          "Easy",
          "Easy",
          "Easy",
          "Easy",
          "Easy",
          "Easy",
          "Easy",
          "Easy",
          "Easy",
          "Easy",
          "Easy",
          "Easy",
          "Easy",
          "Easy",
          "Easy",
          "Easy",
          "Easy",
          "Easy",
          "Easy",
          "Easy",
          "Easy",
          "Easy",
          "Easy",
          "Easy",
          "Easy",
          "Easy",
          "Easy",
          "Easy",
          "Easy",
          "Easy",
          "Easy",
          "Easy",
          "Easy",
          "Easy",
          "Easy",
          "Easy",
          "Easy",
          "Easy",
          "Easy",
          "Easy",
          "Easy",
          "Easy",
          "Easy",
          "Easy",
          "Easy",
          "Easy",
          "Easy",
          "Medium",
          "Medium",
          "Medium",
          "Medium",
          "Medium",
          "Medium",
          "Medium",
          "Medium",
          "Medium",
          "Medium",
          "Medium",
          "Medium",
          "Medium",
          "Medium",
          "Medium",
          "Medium",
          "Medium",
          "Medium",
          "Medium",
          "Medium",
          "Medium",
          "Medium",
          "Medium",
          "Medium",
          "Medium",
          "Medium",
          "Medium",
          "Medium",
          "Medium",
          "Medium",
          "Medium",
          "Medium",
          "Medium",
          "Medium",
          "Medium",
          "Medium",
          "Medium",
          "Medium",
          "Medium",
          "Medium",
          "Medium",
          "Medium",
          "Medium",
          "Medium",
          "Medium",
          "Medium",
          "Medium",
          "Medium",
          "Medium",
          "Medium"
         ],
         "x0": " ",
         "xaxis": "x",
         "y": [
          0.0320840044878423,
          0.0562919885851442,
          0.0299160019494593,
          0.0374169903807342,
          0.0400829885620623,
          0.0349580077454447,
          0.027874979423359,
          0.0528749951627105,
          0.0406249891966581,
          0.0572080025449395,
          0.056541000958532,
          0.0437500129919499,
          0.0522909977007657,
          0.030791008612141,
          0.0367499887943267,
          0.032249983632937,
          0.029707996873185,
          0.0260410015471279,
          0.0287089787889271,
          0.0458750000689178,
          0.0294589844997972,
          0.0323750136885792,
          0.019250001059845,
          0.0314579810947179,
          0.0313339987769722,
          0.0327499874401837,
          0.0363340077456086,
          0.0403749872930347,
          0.031208008294925,
          0.0201250077225267,
          0.0477079884149134,
          0.0183749943971633,
          0.0177500187419354,
          0.0378330005332827,
          0.0243329850491136,
          0.0216669868677854,
          0.0212090089917182,
          0.0242079840973019,
          0.0217080232687294,
          0.0215000181924551,
          0.0192919978871941,
          0.019250001059845,
          0.027874979423359,
          0.0240420049522072,
          0.0294169876724481,
          0.0356250093318522,
          0.0194580061361193,
          0.0368749897461384,
          0.0359590048901736,
          0.0512079859618097,
          0.0357500102836638,
          0.0422919983975589,
          0.0556670129299163,
          0.0861249864101409,
          0.037332996726036,
          0.088375003542751,
          0.0329169852193445,
          0.1088340068235993,
          0.0729589955881238,
          0.0724580022506415,
          0.0578749750275164,
          0.0648330023977905,
          0.0770420010667294,
          0.0475829874631017,
          0.0562500208616256,
          0.0477499852422624,
          0.0674590119160711,
          0.1091670128516852,
          0.0453749962616711,
          0.0486669887322932,
          0.064833991928026,
          0.031166011467576,
          0.0737500085961073,
          0.0316250079777091,
          0.0368340115528553,
          0.0489579979330301,
          0.1036249741446226,
          0.0249580189120024,
          0.0624579843133688,
          0.2235830179415643,
          0.0289169838652014,
          0.0734170025680214,
          0.0431669759564101,
          0.1409999968018382,
          0.0582910142838954,
          0.0249170116148889,
          0.1779580197762698,
          0.1353340048808604,
          0.0936250144150108,
          0.0889580114744603,
          0.065917003666982,
          0.0926250068005174,
          0.0831249926704913,
          0.0815840030554682,
          0.0789160258136689,
          0.0645419931970536,
          0.0852079829201102,
          0.1724169997032731,
          0.1107499992940574,
          0.0950829999055713
         ],
         "y0": " ",
         "yaxis": "y"
        },
        {
         "alignmentgroup": "True",
         "boxpoints": "all",
         "hovertemplate": "model=o3-mini<br>difficulty=%{x}<br>execution_time_ms=%{y}<extra></extra>",
         "legendgroup": "o3-mini",
         "marker": {
          "color": "red"
         },
         "name": "o3-mini",
         "notched": false,
         "offsetgroup": "o3-mini",
         "orientation": "v",
         "showlegend": true,
         "type": "box",
         "x": [
          "Easy",
          "Easy",
          "Easy",
          "Easy",
          "Easy",
          "Easy",
          "Easy",
          "Easy",
          "Easy",
          "Easy",
          "Easy",
          "Easy",
          "Easy",
          "Easy",
          "Easy",
          "Easy",
          "Easy",
          "Easy",
          "Easy",
          "Easy",
          "Easy",
          "Easy",
          "Easy",
          "Easy",
          "Easy",
          "Easy",
          "Easy",
          "Easy",
          "Easy",
          "Easy",
          "Easy",
          "Easy",
          "Easy",
          "Easy",
          "Easy",
          "Easy",
          "Easy",
          "Easy",
          "Easy",
          "Easy",
          "Easy",
          "Easy",
          "Easy",
          "Easy",
          "Easy",
          "Easy",
          "Easy",
          "Easy",
          "Easy",
          "Easy",
          "Medium",
          "Medium",
          "Medium",
          "Medium",
          "Medium",
          "Medium",
          "Medium",
          "Medium",
          "Medium",
          "Medium",
          "Medium",
          "Medium",
          "Medium",
          "Medium",
          "Medium",
          "Medium",
          "Medium",
          "Medium",
          "Medium",
          "Medium",
          "Medium",
          "Medium",
          "Medium",
          "Medium",
          "Medium",
          "Medium",
          "Medium",
          "Medium",
          "Medium",
          "Medium",
          "Medium",
          "Medium",
          "Medium",
          "Medium",
          "Medium",
          "Medium",
          "Medium",
          "Medium",
          "Medium",
          "Medium",
          "Medium",
          "Medium",
          "Medium",
          "Medium",
          "Medium",
          "Medium",
          "Medium",
          "Medium",
          "Medium",
          "Medium"
         ],
         "x0": " ",
         "xaxis": "x",
         "y": [
          0.0110419932752847,
          0.0547500094398856,
          0.0463330070488154,
          0.0837499974295497,
          0.0989160034805536,
          0.1141670218203216,
          0.4020419728476554,
          0.0654169998597353,
          0.1005840022116899,
          0.2554590173531323,
          0.1229170011356473,
          0.0881670275703072,
          0.0733749766368419,
          0.0967920059338212,
          0.1249169872608035,
          0.0811670033726841,
          0.1249589840881526,
          0.1147079747170209,
          0.2332919975742697,
          0.0882500025909394,
          0.0507919758092612,
          0.0504589988850057,
          0.0712079927325248,
          0.055042008170858,
          0.1232920039910823,
          0.0917089928407222,
          0.2665409992914647,
          0.0867920171003788,
          0.1124169793911278,
          0.1013750152196735,
          0.1149999734479934,
          0.1121660170610994,
          0.0407909974455833,
          0.1232089998666197,
          0.1591249892953783,
          0.0574589939787983,
          0.0849159841891378,
          0.0843330053612589,
          0.1686660107225179,
          0.0516249856445938,
          0.0635830219835043,
          0.1215839874930679,
          0.0626660184934735,
          0.1734999823383987,
          0.0732499756850302,
          0.1099579967558384,
          0.0530410034116357,
          0.0661670055706054,
          0.2051669871434569,
          0.074625015258789,
          0.3293329791631549,
          0.0642499944660812,
          0.0407079933211207,
          0.0513330160174518,
          0.0374169903807342,
          0.059792015235871,
          0.044915999751538,
          0.0397909898310899,
          0.0418749987147748,
          0.0359580153599381,
          0.0416249968111515,
          0.0417499977629631,
          0.0336669909302145,
          0.0221660011447966,
          0.0480829912703484,
          0.0437080161646008,
          0.0292079930659383,
          0.0418330018874257,
          0.0317079829983413,
          0.0298330269288271,
          0.8767080144025385,
          0.0282500113826245,
          0.0219170178752392,
          0.0296250218525528,
          0.020999985281378,
          0.0181250215973705,
          0.0312089978251606,
          0.0145829981192946,
          0.0147079990711063,
          0.0452079984825104,
          0.0302499975077807,
          0.0214580213651061,
          0.0147499958984553,
          0.0315840006805956,
          0.0187080004252493,
          0.0153340224642306,
          0.0602910004090517,
          0.0382080033887177,
          0.0295419886242598,
          0.0240420049522072,
          0.0173329899553209,
          0.0187499972525984,
          0.0186249963007867,
          0.0180000206455588,
          0.0243749818764626,
          0.0179589842446148,
          0.0270830059889704,
          0.0257919891737401,
          0.0300410029012709,
          0.0247080170083791
         ],
         "y0": " ",
         "yaxis": "y"
        }
       ],
       "layout": {
        "boxmode": "group",
        "hovermode": "x unified",
        "legend": {
         "title": {
          "text": "model"
         },
         "tracegroupgap": 0
        },
        "template": {
         "data": {
          "bar": [
           {
            "error_x": {
             "color": "#2a3f5f"
            },
            "error_y": {
             "color": "#2a3f5f"
            },
            "marker": {
             "line": {
              "color": "#E5ECF6",
              "width": 0.5
             },
             "pattern": {
              "fillmode": "overlay",
              "size": 10,
              "solidity": 0.2
             }
            },
            "type": "bar"
           }
          ],
          "barpolar": [
           {
            "marker": {
             "line": {
              "color": "#E5ECF6",
              "width": 0.5
             },
             "pattern": {
              "fillmode": "overlay",
              "size": 10,
              "solidity": 0.2
             }
            },
            "type": "barpolar"
           }
          ],
          "carpet": [
           {
            "aaxis": {
             "endlinecolor": "#2a3f5f",
             "gridcolor": "white",
             "linecolor": "white",
             "minorgridcolor": "white",
             "startlinecolor": "#2a3f5f"
            },
            "baxis": {
             "endlinecolor": "#2a3f5f",
             "gridcolor": "white",
             "linecolor": "white",
             "minorgridcolor": "white",
             "startlinecolor": "#2a3f5f"
            },
            "type": "carpet"
           }
          ],
          "choropleth": [
           {
            "colorbar": {
             "outlinewidth": 0,
             "ticks": ""
            },
            "type": "choropleth"
           }
          ],
          "contour": [
           {
            "colorbar": {
             "outlinewidth": 0,
             "ticks": ""
            },
            "colorscale": [
             [
              0,
              "#0d0887"
             ],
             [
              0.1111111111111111,
              "#46039f"
             ],
             [
              0.2222222222222222,
              "#7201a8"
             ],
             [
              0.3333333333333333,
              "#9c179e"
             ],
             [
              0.4444444444444444,
              "#bd3786"
             ],
             [
              0.5555555555555556,
              "#d8576b"
             ],
             [
              0.6666666666666666,
              "#ed7953"
             ],
             [
              0.7777777777777778,
              "#fb9f3a"
             ],
             [
              0.8888888888888888,
              "#fdca26"
             ],
             [
              1,
              "#f0f921"
             ]
            ],
            "type": "contour"
           }
          ],
          "contourcarpet": [
           {
            "colorbar": {
             "outlinewidth": 0,
             "ticks": ""
            },
            "type": "contourcarpet"
           }
          ],
          "heatmap": [
           {
            "colorbar": {
             "outlinewidth": 0,
             "ticks": ""
            },
            "colorscale": [
             [
              0,
              "#0d0887"
             ],
             [
              0.1111111111111111,
              "#46039f"
             ],
             [
              0.2222222222222222,
              "#7201a8"
             ],
             [
              0.3333333333333333,
              "#9c179e"
             ],
             [
              0.4444444444444444,
              "#bd3786"
             ],
             [
              0.5555555555555556,
              "#d8576b"
             ],
             [
              0.6666666666666666,
              "#ed7953"
             ],
             [
              0.7777777777777778,
              "#fb9f3a"
             ],
             [
              0.8888888888888888,
              "#fdca26"
             ],
             [
              1,
              "#f0f921"
             ]
            ],
            "type": "heatmap"
           }
          ],
          "heatmapgl": [
           {
            "colorbar": {
             "outlinewidth": 0,
             "ticks": ""
            },
            "colorscale": [
             [
              0,
              "#0d0887"
             ],
             [
              0.1111111111111111,
              "#46039f"
             ],
             [
              0.2222222222222222,
              "#7201a8"
             ],
             [
              0.3333333333333333,
              "#9c179e"
             ],
             [
              0.4444444444444444,
              "#bd3786"
             ],
             [
              0.5555555555555556,
              "#d8576b"
             ],
             [
              0.6666666666666666,
              "#ed7953"
             ],
             [
              0.7777777777777778,
              "#fb9f3a"
             ],
             [
              0.8888888888888888,
              "#fdca26"
             ],
             [
              1,
              "#f0f921"
             ]
            ],
            "type": "heatmapgl"
           }
          ],
          "histogram": [
           {
            "marker": {
             "pattern": {
              "fillmode": "overlay",
              "size": 10,
              "solidity": 0.2
             }
            },
            "type": "histogram"
           }
          ],
          "histogram2d": [
           {
            "colorbar": {
             "outlinewidth": 0,
             "ticks": ""
            },
            "colorscale": [
             [
              0,
              "#0d0887"
             ],
             [
              0.1111111111111111,
              "#46039f"
             ],
             [
              0.2222222222222222,
              "#7201a8"
             ],
             [
              0.3333333333333333,
              "#9c179e"
             ],
             [
              0.4444444444444444,
              "#bd3786"
             ],
             [
              0.5555555555555556,
              "#d8576b"
             ],
             [
              0.6666666666666666,
              "#ed7953"
             ],
             [
              0.7777777777777778,
              "#fb9f3a"
             ],
             [
              0.8888888888888888,
              "#fdca26"
             ],
             [
              1,
              "#f0f921"
             ]
            ],
            "type": "histogram2d"
           }
          ],
          "histogram2dcontour": [
           {
            "colorbar": {
             "outlinewidth": 0,
             "ticks": ""
            },
            "colorscale": [
             [
              0,
              "#0d0887"
             ],
             [
              0.1111111111111111,
              "#46039f"
             ],
             [
              0.2222222222222222,
              "#7201a8"
             ],
             [
              0.3333333333333333,
              "#9c179e"
             ],
             [
              0.4444444444444444,
              "#bd3786"
             ],
             [
              0.5555555555555556,
              "#d8576b"
             ],
             [
              0.6666666666666666,
              "#ed7953"
             ],
             [
              0.7777777777777778,
              "#fb9f3a"
             ],
             [
              0.8888888888888888,
              "#fdca26"
             ],
             [
              1,
              "#f0f921"
             ]
            ],
            "type": "histogram2dcontour"
           }
          ],
          "mesh3d": [
           {
            "colorbar": {
             "outlinewidth": 0,
             "ticks": ""
            },
            "type": "mesh3d"
           }
          ],
          "parcoords": [
           {
            "line": {
             "colorbar": {
              "outlinewidth": 0,
              "ticks": ""
             }
            },
            "type": "parcoords"
           }
          ],
          "pie": [
           {
            "automargin": true,
            "type": "pie"
           }
          ],
          "scatter": [
           {
            "fillpattern": {
             "fillmode": "overlay",
             "size": 10,
             "solidity": 0.2
            },
            "type": "scatter"
           }
          ],
          "scatter3d": [
           {
            "line": {
             "colorbar": {
              "outlinewidth": 0,
              "ticks": ""
             }
            },
            "marker": {
             "colorbar": {
              "outlinewidth": 0,
              "ticks": ""
             }
            },
            "type": "scatter3d"
           }
          ],
          "scattercarpet": [
           {
            "marker": {
             "colorbar": {
              "outlinewidth": 0,
              "ticks": ""
             }
            },
            "type": "scattercarpet"
           }
          ],
          "scattergeo": [
           {
            "marker": {
             "colorbar": {
              "outlinewidth": 0,
              "ticks": ""
             }
            },
            "type": "scattergeo"
           }
          ],
          "scattergl": [
           {
            "marker": {
             "colorbar": {
              "outlinewidth": 0,
              "ticks": ""
             }
            },
            "type": "scattergl"
           }
          ],
          "scattermapbox": [
           {
            "marker": {
             "colorbar": {
              "outlinewidth": 0,
              "ticks": ""
             }
            },
            "type": "scattermapbox"
           }
          ],
          "scatterpolar": [
           {
            "marker": {
             "colorbar": {
              "outlinewidth": 0,
              "ticks": ""
             }
            },
            "type": "scatterpolar"
           }
          ],
          "scatterpolargl": [
           {
            "marker": {
             "colorbar": {
              "outlinewidth": 0,
              "ticks": ""
             }
            },
            "type": "scatterpolargl"
           }
          ],
          "scatterternary": [
           {
            "marker": {
             "colorbar": {
              "outlinewidth": 0,
              "ticks": ""
             }
            },
            "type": "scatterternary"
           }
          ],
          "surface": [
           {
            "colorbar": {
             "outlinewidth": 0,
             "ticks": ""
            },
            "colorscale": [
             [
              0,
              "#0d0887"
             ],
             [
              0.1111111111111111,
              "#46039f"
             ],
             [
              0.2222222222222222,
              "#7201a8"
             ],
             [
              0.3333333333333333,
              "#9c179e"
             ],
             [
              0.4444444444444444,
              "#bd3786"
             ],
             [
              0.5555555555555556,
              "#d8576b"
             ],
             [
              0.6666666666666666,
              "#ed7953"
             ],
             [
              0.7777777777777778,
              "#fb9f3a"
             ],
             [
              0.8888888888888888,
              "#fdca26"
             ],
             [
              1,
              "#f0f921"
             ]
            ],
            "type": "surface"
           }
          ],
          "table": [
           {
            "cells": {
             "fill": {
              "color": "#EBF0F8"
             },
             "line": {
              "color": "white"
             }
            },
            "header": {
             "fill": {
              "color": "#C8D4E3"
             },
             "line": {
              "color": "white"
             }
            },
            "type": "table"
           }
          ]
         },
         "layout": {
          "annotationdefaults": {
           "arrowcolor": "#2a3f5f",
           "arrowhead": 0,
           "arrowwidth": 1
          },
          "autotypenumbers": "strict",
          "coloraxis": {
           "colorbar": {
            "outlinewidth": 0,
            "ticks": ""
           }
          },
          "colorscale": {
           "diverging": [
            [
             0,
             "#8e0152"
            ],
            [
             0.1,
             "#c51b7d"
            ],
            [
             0.2,
             "#de77ae"
            ],
            [
             0.3,
             "#f1b6da"
            ],
            [
             0.4,
             "#fde0ef"
            ],
            [
             0.5,
             "#f7f7f7"
            ],
            [
             0.6,
             "#e6f5d0"
            ],
            [
             0.7,
             "#b8e186"
            ],
            [
             0.8,
             "#7fbc41"
            ],
            [
             0.9,
             "#4d9221"
            ],
            [
             1,
             "#276419"
            ]
           ],
           "sequential": [
            [
             0,
             "#0d0887"
            ],
            [
             0.1111111111111111,
             "#46039f"
            ],
            [
             0.2222222222222222,
             "#7201a8"
            ],
            [
             0.3333333333333333,
             "#9c179e"
            ],
            [
             0.4444444444444444,
             "#bd3786"
            ],
            [
             0.5555555555555556,
             "#d8576b"
            ],
            [
             0.6666666666666666,
             "#ed7953"
            ],
            [
             0.7777777777777778,
             "#fb9f3a"
            ],
            [
             0.8888888888888888,
             "#fdca26"
            ],
            [
             1,
             "#f0f921"
            ]
           ],
           "sequentialminus": [
            [
             0,
             "#0d0887"
            ],
            [
             0.1111111111111111,
             "#46039f"
            ],
            [
             0.2222222222222222,
             "#7201a8"
            ],
            [
             0.3333333333333333,
             "#9c179e"
            ],
            [
             0.4444444444444444,
             "#bd3786"
            ],
            [
             0.5555555555555556,
             "#d8576b"
            ],
            [
             0.6666666666666666,
             "#ed7953"
            ],
            [
             0.7777777777777778,
             "#fb9f3a"
            ],
            [
             0.8888888888888888,
             "#fdca26"
            ],
            [
             1,
             "#f0f921"
            ]
           ]
          },
          "colorway": [
           "#636efa",
           "#EF553B",
           "#00cc96",
           "#ab63fa",
           "#FFA15A",
           "#19d3f3",
           "#FF6692",
           "#B6E880",
           "#FF97FF",
           "#FECB52"
          ],
          "font": {
           "color": "#2a3f5f"
          },
          "geo": {
           "bgcolor": "white",
           "lakecolor": "white",
           "landcolor": "#E5ECF6",
           "showlakes": true,
           "showland": true,
           "subunitcolor": "white"
          },
          "hoverlabel": {
           "align": "left"
          },
          "hovermode": "closest",
          "mapbox": {
           "style": "light"
          },
          "paper_bgcolor": "white",
          "plot_bgcolor": "#E5ECF6",
          "polar": {
           "angularaxis": {
            "gridcolor": "white",
            "linecolor": "white",
            "ticks": ""
           },
           "bgcolor": "#E5ECF6",
           "radialaxis": {
            "gridcolor": "white",
            "linecolor": "white",
            "ticks": ""
           }
          },
          "scene": {
           "xaxis": {
            "backgroundcolor": "#E5ECF6",
            "gridcolor": "white",
            "gridwidth": 2,
            "linecolor": "white",
            "showbackground": true,
            "ticks": "",
            "zerolinecolor": "white"
           },
           "yaxis": {
            "backgroundcolor": "#E5ECF6",
            "gridcolor": "white",
            "gridwidth": 2,
            "linecolor": "white",
            "showbackground": true,
            "ticks": "",
            "zerolinecolor": "white"
           },
           "zaxis": {
            "backgroundcolor": "#E5ECF6",
            "gridcolor": "white",
            "gridwidth": 2,
            "linecolor": "white",
            "showbackground": true,
            "ticks": "",
            "zerolinecolor": "white"
           }
          },
          "shapedefaults": {
           "line": {
            "color": "#2a3f5f"
           }
          },
          "ternary": {
           "aaxis": {
            "gridcolor": "white",
            "linecolor": "white",
            "ticks": ""
           },
           "baxis": {
            "gridcolor": "white",
            "linecolor": "white",
            "ticks": ""
           },
           "bgcolor": "#E5ECF6",
           "caxis": {
            "gridcolor": "white",
            "linecolor": "white",
            "ticks": ""
           }
          },
          "title": {
           "x": 0.05
          },
          "xaxis": {
           "automargin": true,
           "gridcolor": "white",
           "linecolor": "white",
           "ticks": "",
           "title": {
            "standoff": 15
           },
           "zerolinecolor": "white",
           "zerolinewidth": 2
          },
          "yaxis": {
           "automargin": true,
           "gridcolor": "white",
           "linecolor": "white",
           "ticks": "",
           "title": {
            "standoff": 15
           },
           "zerolinecolor": "white",
           "zerolinewidth": 2
          }
         }
        },
        "title": {
         "text": "Execution Times by Difficulty Level and Model"
        },
        "xaxis": {
         "anchor": "y",
         "domain": [
          0,
          1
         ],
         "title": {
          "text": "Difficulty Level"
         }
        },
        "yaxis": {
         "anchor": "x",
         "domain": [
          0,
          1
         ],
         "title": {
          "text": "Execution Time (ms)"
         }
        }
       }
      }
     },
     "metadata": {},
     "output_type": "display_data"
    }
   ],
   "source": [
    "import pandas as pd\n",
    "import plotly.express as px\n",
    "\n",
    "# Load the CSV data\n",
    "df = pd.read_csv('ai_generated_code_new.csv')\n",
    "\n",
    "# Define custom colors for each model\n",
    "color_discrete_map = {\n",
    "    'gpt-4o': 'blue',\n",
    "    'o3-mini': 'red',\n",
    "    'copilot': 'green'\n",
    "}\n",
    "\n",
    "# Create a box plot for execution times by difficulty level and model with custom colors\n",
    "fig = px.box(df, x='difficulty', y='execution_time_ms', points=\"all\", color='model', \n",
    "             color_discrete_map=color_discrete_map, title=\"Execution Times by Difficulty Level and Model\")\n",
    "\n",
    "# Update layout for better visualization\n",
    "fig.update_layout(\n",
    "    xaxis_title=\"Difficulty Level\",\n",
    "    yaxis_title=\"Execution Time (ms)\",\n",
    "    hovermode=\"x unified\"\n",
    ")\n",
    "\n",
    "# Show the plot\n",
    "fig.show()"
   ]
  }
 ],
 "metadata": {
  "kernelspec": {
   "display_name": "base",
   "language": "python",
   "name": "python3"
  },
  "language_info": {
   "codemirror_mode": {
    "name": "ipython",
    "version": 3
   },
   "file_extension": ".py",
   "mimetype": "text/x-python",
   "name": "python",
   "nbconvert_exporter": "python",
   "pygments_lexer": "ipython3",
   "version": "3.11.4"
  }
 },
 "nbformat": 4,
 "nbformat_minor": 2
}
